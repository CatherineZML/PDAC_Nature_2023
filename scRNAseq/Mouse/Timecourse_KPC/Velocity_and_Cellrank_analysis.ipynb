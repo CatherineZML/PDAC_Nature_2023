{
 "cells": [
  {
   "cell_type": "code",
   "execution_count": null,
   "id": "710af343-7adb-492a-bf38-52d1eb094e47",
   "metadata": {},
   "outputs": [],
   "source": [
    "import anndata\n",
    "import scvelo as scv\n",
    "import pandas as pd\n",
    "import numpy as np\n",
    "import matplotlib as plt\n",
    "import scanpy as sc\n",
    "import cellrank as cr\n",
    "\n",
    "scv.logging.print_version()\n",
    "scv.settings.presenter_view = True\n",
    "scv.settings.set_figure_params('scvelo')\n",
    "scv.settings.verbosity = 3\n",
    "cr.settings.verbosity = 2"
   ]
  },
  {
   "cell_type": "code",
   "execution_count": null,
   "id": "45d6138e-0c6f-48ec-81c9-ace3a8fe3339",
   "metadata": {},
   "outputs": [],
   "source": [
    "# import output loom files from velocyto\n",
    "s1 = anndata.read_loom(\"1551_1/possorted_genome_bam_NZ7WX.loom\")\n",
    "s2 = anndata.read_loom(\"1551_3/possorted_genome_bam_MF8C0.loom\")\n",
    "s3 = anndata.read_loom(\"1551_5/possorted_genome_bam_54MM0.loom\")\n",
    "s4 = anndata.read_loom(\"1551_7/possorted_genome_bam_BUHZG.loom\")\n",
    "s5 = anndata.read_loom(\"Blood_d10/H1/possorted_genome_bam_HGP3U.loom\")\n",
    "s6 = anndata.read_loom(\"Blood_d10/H2/possorted_genome_bam_AWTRY.loom\")\n",
    "s7 = anndata.read_loom(\"Blood_d10/H3/possorted_genome_bam_YNDJD.loom\")\n",
    "s8 = anndata.read_loom(\"Blood_d20/H1/possorted_genome_bam_EUWL2.loom\")\n",
    "s9 = anndata.read_loom(\"Blood_d20/H2/possorted_genome_bam_YO0JD.loom\")\n",
    "s10 = anndata.read_loom(\"Blood_d20/H3/possorted_genome_bam_P3A1A.loom\")\n",
    "s11 = anndata.read_loom(\"Blood_d30/H1/possorted_genome_bam_YQ8ZV.loom\")\n",
    "s12 = anndata.read_loom(\"Blood_d30/H2/possorted_genome_bam_TE8TY.loom\")\n",
    "s13 = anndata.read_loom(\"Blood_d30/H3/possorted_genome_bam_43CNI.loom\")\n",
    "s14 = anndata.read_loom(\"Healthy_Blood/H1/possorted_genome_bam_Q1PXG.loom\")\n",
    "s15 = anndata.read_loom(\"Healthy_Blood/H2/possorted_genome_bam_WXOUL.loom\")\n",
    "s16 = anndata.read_loom(\"Healthy_Blood/H3/possorted_genome_bam_566KS.loom\")"
   ]
  },
  {
   "cell_type": "code",
   "execution_count": null,
   "id": "994a747a-8e9d-4546-9565-bc81a9885476",
   "metadata": {},
   "outputs": [],
   "source": [
    "s1.var_names_make_unique()\n",
    "s2.var_names_make_unique()\n",
    "s3.var_names_make_unique()\n",
    "s4.var_names_make_unique()\n",
    "s5.var_names_make_unique()\n",
    "s6.var_names_make_unique()\n",
    "s7.var_names_make_unique()\n",
    "s8.var_names_make_unique()\n",
    "s9.var_names_make_unique()\n",
    "s10.var_names_make_unique()\n",
    "s11.var_names_make_unique()\n",
    "s12.var_names_make_unique()\n",
    "s13.var_names_make_unique()\n",
    "s14.var_names_make_unique()\n",
    "s15.var_names_make_unique()\n",
    "s16.var_names_make_unique()"
   ]
  },
  {
   "cell_type": "code",
   "execution_count": null,
   "id": "a76a42e7-3985-45e4-bdb7-ea2f3398403b",
   "metadata": {},
   "outputs": [],
   "source": [
    "cell_names=s16.obs.index\n",
    "cell_names_mod = [sub.replace('possorted_genome_bam_566KS:', 'Healthy_Blood_3_') for sub in cell_names]\n",
    "cell_names_mod = [sub.replace('x', '') for sub in cell_names_mod]\n",
    "s16.obs.index = cell_names_mod"
   ]
  },
  {
   "cell_type": "code",
   "execution_count": null,
   "id": "14220657-d388-4c34-9630-dcc2609cf3e1",
   "metadata": {},
   "outputs": [],
   "source": [
    "tsne = pd.read_csv('tmp/tsne.csv', index_col=0) # load tsne embedding computed with Palantir\n",
    "tsne"
   ]
  },
  {
   "cell_type": "code",
   "execution_count": null,
   "id": "1b568cbb-3a9e-4827-a3c3-7fd1c0f6b441",
   "metadata": {},
   "outputs": [],
   "source": [
    "cluster = pd.read_csv('annotated_clusters_subset.csv', index_col=0) # load cell annotation\n",
    "cluster = cluster.rename(columns={'x':'clusters_refined'})\n",
    "cluster"
   ]
  },
  {
   "cell_type": "code",
   "execution_count": null,
   "id": "32708571-36ad-466b-bde1-18e93a296ecf",
   "metadata": {},
   "outputs": [],
   "source": [
    "tissue = pd.read_csv('tissue_annotation.csv', index_col=0) # load tissue annotation\n",
    "tissue"
   ]
  },
  {
   "cell_type": "code",
   "execution_count": null,
   "id": "b08e9e15-4bd0-4cfc-aaec-269abef0534f",
   "metadata": {},
   "outputs": [],
   "source": [
    "merge = s1.concatenate(s2,s3,s4,s5,s6,s7,s8,s9,s10,s11,s12,s13,s14,s15,s16)\n",
    "merge"
   ]
  },
  {
   "cell_type": "code",
   "execution_count": null,
   "id": "3f75a226-4d51-4073-946a-52a0ff18f334",
   "metadata": {},
   "outputs": [],
   "source": [
    "cell_names=merge.obs.index\n",
    "cell_names_mod = [sub.replace('-0', '-1') for sub in cell_names]\n",
    "cell_names_mod = [sub.replace('-2', '-1') for sub in cell_names_mod]\n",
    "cell_names_mod = [sub.replace('-3', '-1') for sub in cell_names_mod]\n",
    "cell_names_mod = [sub.replace('-4', '-1') for sub in cell_names_mod]\n",
    "cell_names_mod = [sub.replace('-5', '-1') for sub in cell_names_mod]\n",
    "cell_names_mod = [sub.replace('-6', '-1') for sub in cell_names_mod]\n",
    "cell_names_mod = [sub.replace('-7', '-1') for sub in cell_names_mod]\n",
    "cell_names_mod = [sub.replace('-8', '-1') for sub in cell_names_mod]\n",
    "cell_names_mod = [sub.replace('-9', '-1') for sub in cell_names_mod]\n",
    "cell_names_mod = [sub.replace('-10', '-1') for sub in cell_names_mod]\n",
    "cell_names_mod = [sub.replace('-11', '-1') for sub in cell_names_mod]\n",
    "cell_names_mod = [sub.replace('-12', '-1') for sub in cell_names_mod]\n",
    "cell_names_mod = [sub.replace('-13', '-1') for sub in cell_names_mod]\n",
    "cell_names_mod = [sub.replace('-14', '-1') for sub in cell_names_mod]\n",
    "cell_names_mod = [sub.replace('-15', '-1') for sub in cell_names_mod]\n",
    "merge.obs.index = cell_names_mod\n",
    "merge.obs.index"
   ]
  },
  {
   "cell_type": "code",
   "execution_count": null,
   "id": "8a09669b-d504-47ee-b00a-717a70f5b63f",
   "metadata": {},
   "outputs": [],
   "source": [
    "ad=merge[np.isin(merge.obs.index, tsne.index)]\n",
    "tsne = tsne.loc[ad.obs.index,:]\n",
    "cluster = cluster.loc[ad.obs.index,:]\n",
    "tissue = tissue.loc[ad.obs.index,:]\n",
    "ad.obs['cluster'] = cluster.values\n",
    "ad.obs['tissue'] = tissue.values\n",
    "ad.obsm['X_tsne'] = tsne.values\n",
    "ad"
   ]
  },
  {
   "cell_type": "code",
   "execution_count": null,
   "id": "16ecf11d-37ff-4426-a8dd-42783d9cb1da",
   "metadata": {},
   "outputs": [],
   "source": [
    "np.allclose(np.ravel(ad.X[:5].data) % 1, 0, atol=1e-3)"
   ]
  },
  {
   "cell_type": "code",
   "execution_count": null,
   "id": "6ae72d7d-18b4-4b84-abcc-30ec27834430",
   "metadata": {},
   "outputs": [],
   "source": [
    "scv.pl.proportions(ad,groupby='cluster')"
   ]
  },
  {
   "cell_type": "code",
   "execution_count": null,
   "id": "4af999a4-42a5-4a36-92ce-9a38c7e4ce9b",
   "metadata": {},
   "outputs": [],
   "source": [
    "scv.pp.filter_and_normalize(ad, min_shared_counts=20, n_top_genes=2000)\n",
    "scv.pp.moments(ad, n_pcs=25, n_neighbors=30)\n",
    "scv.tl.recover_dynamics(ad)\n",
    "scv.tl.velocity(ad, mode = 'dynamical')\n",
    "scv.tl.velocity_graph(ad)"
   ]
  },
  {
   "cell_type": "code",
   "execution_count": null,
   "id": "3a2c99b9-392e-4c77-af1f-3299623e0c63",
   "metadata": {},
   "outputs": [],
   "source": [
    "scv.pl.velocity_embedding_stream(ad, basis='tsne', color='cluster',save='Velocity_MonoMacro_dynamical_TSNEMNN.svg',palette=[\"#ede445ff\",'#43e0efff',\"#78f785ff\",\"#e378d0ff\",\"#ff5c67ff\",\"#f7903bff\",\"#a179e2ff\",\"#5d97eaff\"],legend_loc='none')\n",
    "scv.pl.velocity_embedding_stream(ad, basis='tsne', color='tissue',save='Tissue_Velocity_MonoMacro_dynamical_TSNEMNN.svg',palette=[\"#ede445ff\",'#ff5c67ff',\"#5d97eaff\"],legend_loc='none')"
   ]
  },
  {
   "cell_type": "code",
   "execution_count": null,
   "id": "28439279-5b00-41c4-bfb8-afab7054f073",
   "metadata": {},
   "outputs": [],
   "source": [
    "from cellrank.tl.kernels import VelocityKernel\n",
    "from cellrank.tl.kernels import ConnectivityKernel\n",
    "vk = VelocityKernel(ad)\n",
    "vk.compute_transition_matrix()\n",
    "ck = ConnectivityKernel(ad).compute_transition_matrix()\n",
    "combined_kernel = 0.8 * vk + 0.2 * ck\n",
    "print(combined_kernel)"
   ]
  },
  {
   "cell_type": "code",
   "execution_count": null,
   "id": "a88448c9-e0f5-4af7-9ade-933e9618fd45",
   "metadata": {},
   "outputs": [],
   "source": [
    "from cellrank.tl.estimators import GPCCA\n",
    "g = GPCCA(combined_kernel)\n",
    "print(g)"
   ]
  },
  {
   "cell_type": "code",
   "execution_count": null,
   "id": "3f80c8bf-e1b4-4335-b7c7-537838953a34",
   "metadata": {},
   "outputs": [],
   "source": [
    "g.compute_schur(n_components=20)\n",
    "g.plot_spectrum()\n",
    "g.plot_schur(basis='tsne',use=10, ncols=3)"
   ]
  },
  {
   "cell_type": "code",
   "execution_count": null,
   "id": "3e246cfb-d45e-4310-b062-bed447ce4dde",
   "metadata": {},
   "outputs": [],
   "source": [
    "g.compute_macrostates(n_states=6, cluster_key=\"cluster\")\n",
    "g.plot_coarse_T(text_kwargs={\"fontsize\": 10})\n",
    "g.macrostates_memberships"
   ]
  },
  {
   "cell_type": "code",
   "execution_count": null,
   "id": "11f89401-21d5-4700-b44a-506f1c033874",
   "metadata": {},
   "outputs": [],
   "source": [
    "g.plot_macrostates(basis='tsne',discrete=True, save='Macrostates_TSNE.pdf')\n",
    "g.compute_terminal_states(method=\"top_n\", n_states=3)\n",
    "g.plot_terminal_states(basis='tsne',same_plot=True,discrete=True, save='All_Terminal_states_TSNE.pdf')"
   ]
  },
  {
   "cell_type": "code",
   "execution_count": null,
   "id": "495fd736-6291-465f-ab85-59d30725d96b",
   "metadata": {},
   "outputs": [],
   "source": [
    "g._set_initial_states_from_macrostates([\"Classical_Mono_1\"])\n",
    "g.compute_absorption_probabilities()\n",
    "g.absorption_probabilities"
   ]
  },
  {
   "cell_type": "code",
   "execution_count": null,
   "id": "06224d51-53ec-496d-a2e3-aa87c108c742",
   "metadata": {},
   "outputs": [],
   "source": [
    "Il1b_abs = g.absorption_probabilities['Il1b+_TAMs']\n",
    "Il1b_abs\n",
    "ad.obs['Il1b_absorption_prob'] = Il1b_abs\n",
    "Il1b_abs.to_csv('Il1b_absorption_probabilities.csv')"
   ]
  },
  {
   "cell_type": "code",
   "execution_count": null,
   "id": "650272ad-bb0f-48e2-b4bb-cca59f263cfb",
   "metadata": {},
   "outputs": [],
   "source": [
    "Il1b_drivers = g.compute_lineage_drivers(lineages=\"Il1b+_TAMs\", cluster_key = 'cluster', clusters = 'Classical_Mono', return_drivers=True, method='perm_test',n_perms=1000,seed=123)\n",
    "Il1b_drivers\n",
    "Il1b_drivers.sort_values(by=\"Il1b+_TAMs corr\", ascending=False)\n",
    "Il1b_drivers.to_csv('TAM_Il1b_lineage_drivers.csv')\n",
    "g.plot_lineage_drivers(\"Il1b+_TAMs\", basis='tsne', n_genes=5, save='Top5_genedrivers_Cl.Mono_to_Il1b_TSNE.pdf')"
   ]
  }
 ],
 "metadata": {
  "kernelspec": {
   "display_name": "Python 3 (ipykernel)",
   "language": "python",
   "name": "python3"
  },
  "language_info": {
   "codemirror_mode": {
    "name": "ipython",
    "version": 3
   },
   "file_extension": ".py",
   "mimetype": "text/x-python",
   "name": "python",
   "nbconvert_exporter": "python",
   "pygments_lexer": "ipython3",
   "version": "3.9.7"
  }
 },
 "nbformat": 4,
 "nbformat_minor": 5
}
